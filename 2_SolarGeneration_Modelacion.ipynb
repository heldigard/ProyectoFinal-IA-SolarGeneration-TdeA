{
 "cells": [
  {
   "cell_type": "markdown",
   "metadata": {},
   "source": [
    "En este notebook se pretende hacer una predicción de la cantidad de Watts que se generaran en un dia en base a la cantidad de radiación solar que se recibe en un dia. Para esto se utilizaran varios modelos de regresión para ver cual es el que mejores resultados nos otorga."
   ]
  },
  {
   "cell_type": "markdown",
   "metadata": {},
   "source": [
    "# Carga de Datos"
   ]
  },
  {
   "cell_type": "code",
   "execution_count": 1,
   "metadata": {},
   "outputs": [],
   "source": [
    "import pandas as pd\n",
    "import warnings\n",
    "from sklearn.preprocessing import StandardScaler\n",
    "from sklearn.linear_model import LinearRegression\n",
    "from sklearn.ensemble import RandomForestRegressor\n",
    "from sklearn.svm import SVR\n",
    "from sklearn.model_selection import GridSearchCV\n",
    "\n",
    "from sklearn.model_selection import train_test_split\n",
    "from sklearn.metrics import mean_squared_error, r2_score\n",
    "from sklearn.metrics import mean_absolute_error, median_absolute_error\n",
    "\n",
    "import lightgbm as lgb\n",
    "import xgboost as xgb\n",
    "\n",
    "warnings.filterwarnings(\"ignore\")"
   ]
  },
  {
   "cell_type": "markdown",
   "metadata": {},
   "source": [
    "Cargamos los datos y los visualizamos"
   ]
  },
  {
   "cell_type": "code",
   "execution_count": 2,
   "metadata": {},
   "outputs": [
    {
     "data": {
      "text/html": [
       "<div>\n",
       "<style scoped>\n",
       "    .dataframe tbody tr th:only-of-type {\n",
       "        vertical-align: middle;\n",
       "    }\n",
       "\n",
       "    .dataframe tbody tr th {\n",
       "        vertical-align: top;\n",
       "    }\n",
       "\n",
       "    .dataframe thead th {\n",
       "        text-align: right;\n",
       "    }\n",
       "</style>\n",
       "<table border=\"1\" class=\"dataframe\">\n",
       "  <thead>\n",
       "    <tr style=\"text-align: right;\">\n",
       "      <th></th>\n",
       "      <th>MODULE_TEMP</th>\n",
       "      <th>Amb_Temp</th>\n",
       "      <th>WIND_Speed</th>\n",
       "      <th>IRR (W/m2)</th>\n",
       "      <th>DC Current in Amps</th>\n",
       "      <th>AC Ir in Amps</th>\n",
       "      <th>AC Iy in Amps</th>\n",
       "      <th>AC Ib in Amps</th>\n",
       "      <th>AC Power in Watts</th>\n",
       "    </tr>\n",
       "  </thead>\n",
       "  <tbody>\n",
       "    <tr>\n",
       "      <th>0</th>\n",
       "      <td>18.7675</td>\n",
       "      <td>17.85190</td>\n",
       "      <td>47.60506</td>\n",
       "      <td>6.388252</td>\n",
       "      <td>0.60</td>\n",
       "      <td>8.6</td>\n",
       "      <td>8.6</td>\n",
       "      <td>8.7</td>\n",
       "      <td>3233</td>\n",
       "    </tr>\n",
       "    <tr>\n",
       "      <th>1</th>\n",
       "      <td>18.6150</td>\n",
       "      <td>18.59573</td>\n",
       "      <td>64.26684</td>\n",
       "      <td>12.776500</td>\n",
       "      <td>0.66</td>\n",
       "      <td>9.6</td>\n",
       "      <td>9.7</td>\n",
       "      <td>10.0</td>\n",
       "      <td>4504</td>\n",
       "    </tr>\n",
       "    <tr>\n",
       "      <th>2</th>\n",
       "      <td>18.9200</td>\n",
       "      <td>18.59573</td>\n",
       "      <td>85.68912</td>\n",
       "      <td>17.035340</td>\n",
       "      <td>4.74</td>\n",
       "      <td>11.9</td>\n",
       "      <td>12.0</td>\n",
       "      <td>12.4</td>\n",
       "      <td>6614</td>\n",
       "    </tr>\n",
       "    <tr>\n",
       "      <th>3</th>\n",
       "      <td>18.9200</td>\n",
       "      <td>18.59573</td>\n",
       "      <td>83.30886</td>\n",
       "      <td>25.553010</td>\n",
       "      <td>8.18</td>\n",
       "      <td>14.8</td>\n",
       "      <td>14.7</td>\n",
       "      <td>14.7</td>\n",
       "      <td>8971</td>\n",
       "    </tr>\n",
       "    <tr>\n",
       "      <th>4</th>\n",
       "      <td>19.0725</td>\n",
       "      <td>18.59573</td>\n",
       "      <td>57.12608</td>\n",
       "      <td>36.200090</td>\n",
       "      <td>26.66</td>\n",
       "      <td>18.6</td>\n",
       "      <td>18.4</td>\n",
       "      <td>18.5</td>\n",
       "      <td>12071</td>\n",
       "    </tr>\n",
       "  </tbody>\n",
       "</table>\n",
       "</div>"
      ],
      "text/plain": [
       "   MODULE_TEMP  Amb_Temp  WIND_Speed  IRR (W/m2)  DC Current in Amps  \\\n",
       "0      18.7675  17.85190    47.60506    6.388252                0.60   \n",
       "1      18.6150  18.59573    64.26684   12.776500                0.66   \n",
       "2      18.9200  18.59573    85.68912   17.035340                4.74   \n",
       "3      18.9200  18.59573    83.30886   25.553010                8.18   \n",
       "4      19.0725  18.59573    57.12608   36.200090               26.66   \n",
       "\n",
       "   AC Ir in Amps  AC Iy in Amps  AC Ib in Amps  AC Power in Watts  \n",
       "0            8.6            8.6            8.7               3233  \n",
       "1            9.6            9.7           10.0               4504  \n",
       "2           11.9           12.0           12.4               6614  \n",
       "3           14.8           14.7           14.7               8971  \n",
       "4           18.6           18.4           18.5              12071  "
      ]
     },
     "execution_count": 2,
     "metadata": {},
     "output_type": "execute_result"
    }
   ],
   "source": [
    "df = pd.read_csv(\"Generation_data.csv\")\n",
    "df.head()"
   ]
  },
  {
   "cell_type": "markdown",
   "metadata": {},
   "source": [
    "En el análisis previo, con la matriz de correlación, detectamos las variables que tienen una correlación alta con la variable objetivo, en este caso, la variable \"AC Power in Watts\"."
   ]
  },
  {
   "cell_type": "markdown",
   "metadata": {},
   "source": [
    "Del analisis previo, sabemos que no hay valores nulos en el dataset, por lo que no es necesario hacer un tratamiento de valores nulos ni la imputacion de datos. Tambien sabemos que no hay variables categoricas, por lo que no es necesario hacer un tratamiento de variables categoricas. Y por ultimo, sabemos cuales son las variables mas relevantes."
   ]
  },
  {
   "cell_type": "code",
   "execution_count": 3,
   "metadata": {},
   "outputs": [
    {
     "data": {
      "text/html": [
       "<div>\n",
       "<style scoped>\n",
       "    .dataframe tbody tr th:only-of-type {\n",
       "        vertical-align: middle;\n",
       "    }\n",
       "\n",
       "    .dataframe tbody tr th {\n",
       "        vertical-align: top;\n",
       "    }\n",
       "\n",
       "    .dataframe thead th {\n",
       "        text-align: right;\n",
       "    }\n",
       "</style>\n",
       "<table border=\"1\" class=\"dataframe\">\n",
       "  <thead>\n",
       "    <tr style=\"text-align: right;\">\n",
       "      <th></th>\n",
       "      <th>MODULE_TEMP</th>\n",
       "      <th>Amb_Temp</th>\n",
       "      <th>IRR (W/m2)</th>\n",
       "      <th>AC Power in Watts</th>\n",
       "    </tr>\n",
       "  </thead>\n",
       "  <tbody>\n",
       "    <tr>\n",
       "      <th>0</th>\n",
       "      <td>18.7675</td>\n",
       "      <td>17.85190</td>\n",
       "      <td>6.388252</td>\n",
       "      <td>3233</td>\n",
       "    </tr>\n",
       "    <tr>\n",
       "      <th>1</th>\n",
       "      <td>18.6150</td>\n",
       "      <td>18.59573</td>\n",
       "      <td>12.776500</td>\n",
       "      <td>4504</td>\n",
       "    </tr>\n",
       "    <tr>\n",
       "      <th>2</th>\n",
       "      <td>18.9200</td>\n",
       "      <td>18.59573</td>\n",
       "      <td>17.035340</td>\n",
       "      <td>6614</td>\n",
       "    </tr>\n",
       "    <tr>\n",
       "      <th>3</th>\n",
       "      <td>18.9200</td>\n",
       "      <td>18.59573</td>\n",
       "      <td>25.553010</td>\n",
       "      <td>8971</td>\n",
       "    </tr>\n",
       "    <tr>\n",
       "      <th>4</th>\n",
       "      <td>19.0725</td>\n",
       "      <td>18.59573</td>\n",
       "      <td>36.200090</td>\n",
       "      <td>12071</td>\n",
       "    </tr>\n",
       "  </tbody>\n",
       "</table>\n",
       "</div>"
      ],
      "text/plain": [
       "   MODULE_TEMP  Amb_Temp  IRR (W/m2)  AC Power in Watts\n",
       "0      18.7675  17.85190    6.388252               3233\n",
       "1      18.6150  18.59573   12.776500               4504\n",
       "2      18.9200  18.59573   17.035340               6614\n",
       "3      18.9200  18.59573   25.553010               8971\n",
       "4      19.0725  18.59573   36.200090              12071"
      ]
     },
     "execution_count": 3,
     "metadata": {},
     "output_type": "execute_result"
    }
   ],
   "source": [
    "# Mantener solo las columnas relevantes\n",
    "df = df[['MODULE_TEMP', 'Amb_Temp', 'IRR (W/m2)', 'AC Power in Watts']]\n",
    "df.head()"
   ]
  },
  {
   "cell_type": "markdown",
   "metadata": {},
   "source": [
    "# Separar las variables en X y Y"
   ]
  },
  {
   "cell_type": "code",
   "execution_count": 4,
   "metadata": {},
   "outputs": [],
   "source": [
    "# Separar las características (X) y la variable objetivo (y)\n",
    "X = df[[\"MODULE_TEMP\", \"Amb_Temp\", \"IRR (W/m2)\"]]\n",
    "y = df[\"AC Power in Watts\"]"
   ]
  },
  {
   "cell_type": "markdown",
   "metadata": {},
   "source": [
    "# Normalización de Datos"
   ]
  },
  {
   "cell_type": "markdown",
   "metadata": {},
   "source": [
    "Utilizaremos la normalización de datos para que los modelos de regresión puedan trabajar de manera más eficiente.\n",
    "Probaremos con StandardScaler y MinMaxScaler para ver cual de los dos nos da mejores resultados."
   ]
  },
  {
   "cell_type": "code",
   "execution_count": 5,
   "metadata": {},
   "outputs": [
    {
     "data": {
      "text/html": [
       "<div>\n",
       "<style scoped>\n",
       "    .dataframe tbody tr th:only-of-type {\n",
       "        vertical-align: middle;\n",
       "    }\n",
       "\n",
       "    .dataframe tbody tr th {\n",
       "        vertical-align: top;\n",
       "    }\n",
       "\n",
       "    .dataframe thead th {\n",
       "        text-align: right;\n",
       "    }\n",
       "</style>\n",
       "<table border=\"1\" class=\"dataframe\">\n",
       "  <thead>\n",
       "    <tr style=\"text-align: right;\">\n",
       "      <th></th>\n",
       "      <th>MODULE_TEMP</th>\n",
       "      <th>Amb_Temp</th>\n",
       "      <th>IRR (W/m2)</th>\n",
       "    </tr>\n",
       "  </thead>\n",
       "  <tbody>\n",
       "    <tr>\n",
       "      <th>0</th>\n",
       "      <td>-1.528927</td>\n",
       "      <td>-1.303068</td>\n",
       "      <td>-1.346098</td>\n",
       "    </tr>\n",
       "    <tr>\n",
       "      <th>1</th>\n",
       "      <td>-1.541617</td>\n",
       "      <td>-1.113392</td>\n",
       "      <td>-1.325707</td>\n",
       "    </tr>\n",
       "    <tr>\n",
       "      <th>2</th>\n",
       "      <td>-1.516238</td>\n",
       "      <td>-1.113392</td>\n",
       "      <td>-1.312112</td>\n",
       "    </tr>\n",
       "    <tr>\n",
       "      <th>3</th>\n",
       "      <td>-1.516238</td>\n",
       "      <td>-1.113392</td>\n",
       "      <td>-1.284924</td>\n",
       "    </tr>\n",
       "    <tr>\n",
       "      <th>4</th>\n",
       "      <td>-1.503548</td>\n",
       "      <td>-1.113392</td>\n",
       "      <td>-1.250938</td>\n",
       "    </tr>\n",
       "  </tbody>\n",
       "</table>\n",
       "</div>"
      ],
      "text/plain": [
       "   MODULE_TEMP  Amb_Temp  IRR (W/m2)\n",
       "0    -1.528927 -1.303068   -1.346098\n",
       "1    -1.541617 -1.113392   -1.325707\n",
       "2    -1.516238 -1.113392   -1.312112\n",
       "3    -1.516238 -1.113392   -1.284924\n",
       "4    -1.503548 -1.113392   -1.250938"
      ]
     },
     "execution_count": 5,
     "metadata": {},
     "output_type": "execute_result"
    }
   ],
   "source": [
    "# Crear el scaler\n",
    "scaler = StandardScaler()\n",
    "\n",
    "# Ajustar y transformar los datos\n",
    "X_scaled = scaler.fit_transform(X)\n",
    "\n",
    "# Convertir el array escalado de nuevo a un DataFrame\n",
    "X_scaled = pd.DataFrame(X_scaled, columns=X.columns)\n",
    "\n",
    "# Mostrar los primeros registros del DataFrame escalado\n",
    "X_scaled.head()"
   ]
  },
  {
   "cell_type": "markdown",
   "metadata": {},
   "source": [
    "# Modelacion y Entrenamiento\n",
    "\n",
    "Para la modelacion y entrenamiento, se utilizaran los siguientes modelos de regresion:\n",
    "* Linear Regression\n",
    "* Polynomial Regression\n",
    "* Random Forest\n",
    "* XGBoost\n",
    "* LightGBM\n",
    "* Support Vector Machines (SVM)"
   ]
  },
  {
   "cell_type": "markdown",
   "metadata": {},
   "source": [
    "# Dividir el dataset en Train y Test"
   ]
  },
  {
   "cell_type": "code",
   "execution_count": 6,
   "metadata": {},
   "outputs": [],
   "source": [
    "# Dividir los datos en conjuntos de entrenamiento y prueba\n",
    "X_train, X_test, y_train, y_test = train_test_split(\n",
    "    X_scaled, y, test_size=0.2, random_state=42\n",
    ")"
   ]
  },
  {
   "cell_type": "markdown",
   "metadata": {},
   "source": [
    "## Linear Regression"
   ]
  },
  {
   "cell_type": "code",
   "execution_count": 7,
   "metadata": {},
   "outputs": [
    {
     "name": "stdout",
     "output_type": "stream",
     "text": [
      "Mean Squared Error: 159747971.16967878\n",
      "R^2 Score: 0.9808629271950605\n",
      "Mean Absolute Error: 7473.24538237479\n",
      "Median Absolute Error: 4958.310957427253\n"
     ]
    }
   ],
   "source": [
    "# Crear el modelo de regresión lineal\n",
    "model = LinearRegression()\n",
    "\n",
    "# Entrenar el modelo\n",
    "model.fit(X_train, y_train)\n",
    "\n",
    "# Hacer predicciones\n",
    "y_pred = model.predict(X_test)\n",
    "\n",
    "# Evaluar el modelo\n",
    "mse = mean_squared_error(y_test, y_pred)\n",
    "r2 = r2_score(y_test, y_pred)\n",
    "mae = mean_absolute_error(y_test, y_pred)\n",
    "medae = median_absolute_error(y_test, y_pred)\n",
    "\n",
    "print(f\"Mean Squared Error: {mse}\")\n",
    "print(f\"R^2 Score: {r2}\")\n",
    "print(f\"Mean Absolute Error: {mae}\")\n",
    "print(f\"Median Absolute Error: {medae}\")"
   ]
  },
  {
   "cell_type": "markdown",
   "metadata": {},
   "source": [
    "# Polynomial Regression"
   ]
  },
  {
   "cell_type": "code",
   "execution_count": null,
   "metadata": {},
   "outputs": [
    {
     "name": "stdout",
     "output_type": "stream",
     "text": [
      "Mean Squared Error (Polynomial Regression): 140500997.19574532\n",
      "R^2 Score (Polynomial Regression): 0.9831686262253331\n",
      "Mean Absolute Error (Polynomial Regression): 6821.709353959054\n",
      "Median Absolute Error (Polynomial Regression): 4211.522203715169\n"
     ]
    }
   ],
   "source": [
    "# Crear el transformador de características polinómicas\n",
    "poly = PolynomialFeatures(degree=2)\n",
    "\n",
    "# Crear el modelo de regresión lineal\n",
    "linear = LinearRegression()\n",
    "\n",
    "# Crear el pipeline que primero transforma las características y luego ajusta el modelo\n",
    "model_poly = make_pipeline(poly, linear)\n",
    "\n",
    "# Entrenar el modelo\n",
    "model_poly.fit(X_train, y_train)\n",
    "\n",
    "# Hacer predicciones\n",
    "y_pred_poly = model_poly.predict(X_test)\n",
    "\n",
    "# Evaluar el modelo\n",
    "mse_poly = mean_squared_error(y_test, y_pred_poly)\n",
    "r2_poly = r2_score(y_test, y_pred_poly)\n",
    "mae_poly = mean_absolute_error(y_test, y_pred_poly)\n",
    "medae_poly = median_absolute_error(y_test, y_pred_poly)\n",
    "\n",
    "print(f\"Mean Squared Error (Polynomial Regression): {mse_poly}\")\n",
    "print(f\"R^2 Score (Polynomial Regression): {r2_poly}\")\n",
    "print(f\"Mean Absolute Error (Polynomial Regression): {mae_poly}\")\n",
    "print(f\"Median Absolute Error (Polynomial Regression): {medae_poly}\")\n"
   ]
  },
  {
   "cell_type": "markdown",
   "metadata": {},
   "source": [
    "# Random Forest"
   ]
  },
  {
   "cell_type": "code",
   "execution_count": 8,
   "metadata": {},
   "outputs": [
    {
     "name": "stdout",
     "output_type": "stream",
     "text": [
      "Mean Squared Error (Random Forest): 163281125.82455277\n",
      "R^2 Score (Random Forest): 0.9804396715044476\n",
      "Mean Absolute Error (Random Forest): 7449.578253928051\n",
      "Median Absolute Error (Random Forest): 4566.7236507936905\n"
     ]
    }
   ],
   "source": [
    "# Crear el modelo de Random Forest\n",
    "rf_model = RandomForestRegressor(n_estimators=150, random_state=42)\n",
    "\n",
    "# Entrenar el modelo\n",
    "rf_model.fit(X_train, y_train)\n",
    "\n",
    "# Hacer predicciones\n",
    "y_pred_rf = rf_model.predict(X_test)\n",
    "\n",
    "# Evaluar el modelo\n",
    "mse_rf = mean_squared_error(y_test, y_pred_rf)\n",
    "r2_rf = r2_score(y_test, y_pred_rf)\n",
    "mae_rf = mean_absolute_error(y_test, y_pred_rf)\n",
    "medae_rf = median_absolute_error(y_test, y_pred_rf)\n",
    "\n",
    "print(f\"Mean Squared Error (Random Forest): {mse_rf}\")\n",
    "print(f\"R^2 Score (Random Forest): {r2_rf}\")\n",
    "print(f\"Mean Absolute Error (Random Forest): {mae_rf}\")\n",
    "print(f\"Median Absolute Error (Random Forest): {medae_rf}\")"
   ]
  },
  {
   "cell_type": "markdown",
   "metadata": {},
   "source": [
    "## Busqueda de Hiperparametros para Random Forest"
   ]
  },
  {
   "cell_type": "code",
   "execution_count": 9,
   "metadata": {},
   "outputs": [
    {
     "name": "stdout",
     "output_type": "stream",
     "text": [
      "Fitting 3 folds for each of 108 candidates, totalling 324 fits\n",
      "Best parameters: {'max_depth': 10, 'min_samples_leaf': 4, 'min_samples_split': 10, 'n_estimators': 200}\n",
      "Mean Squared Error (Best Random Forest): 135551253.0213555\n",
      "R^2 Score (Best Random Forest): 0.9837615828302749\n",
      "Mean Absolute Error (Best Random Forest): 6606.933817275343\n",
      "Median Absolute Error (Best Random Forest): 4125.318189967948\n"
     ]
    }
   ],
   "source": [
    "# Definir los parámetros que queremos probar\n",
    "param_grid = {\n",
    "  'n_estimators': [100, 150, 200],\n",
    "  'max_depth': [None, 10, 20, 30],\n",
    "  'min_samples_split': [2, 5, 10],\n",
    "  'min_samples_leaf': [1, 2, 4]\n",
    "}\n",
    "\n",
    "# Crear el modelo de Random Forest\n",
    "rf_model = RandomForestRegressor(random_state=42)\n",
    "\n",
    "# Crear el GridSearchCV\n",
    "grid_search = GridSearchCV(estimator=rf_model, param_grid=param_grid, cv=3, n_jobs=-1, verbose=2)\n",
    "\n",
    "# Entrenar el modelo\n",
    "grid_search.fit(X_train, y_train)\n",
    "\n",
    "# Obtener los mejores parámetros\n",
    "best_params = grid_search.best_params_\n",
    "print(f\"Best parameters: {best_params}\")\n",
    "\n",
    "# Evaluar el modelo con los mejores parámetros\n",
    "best_rf_model = grid_search.best_estimator_\n",
    "y_pred_best_rf = best_rf_model.predict(X_test)\n",
    "\n",
    "# Evaluar el modelo\n",
    "mse_best_rf = mean_squared_error(y_test, y_pred_best_rf)\n",
    "r2_best_rf = r2_score(y_test, y_pred_best_rf)\n",
    "mae_best_rf = mean_absolute_error(y_test, y_pred_best_rf)\n",
    "medae_best_rf = median_absolute_error(y_test, y_pred_best_rf)\n",
    "\n",
    "print(f\"Mean Squared Error (Best Random Forest): {mse_best_rf}\")\n",
    "print(f\"R^2 Score (Best Random Forest): {r2_best_rf}\")\n",
    "print(f\"Mean Absolute Error (Best Random Forest): {mae_best_rf}\")\n",
    "print(f\"Median Absolute Error (Best Random Forest): {medae_best_rf}\")"
   ]
  },
  {
   "cell_type": "markdown",
   "metadata": {},
   "source": [
    "# XGBoost"
   ]
  },
  {
   "cell_type": "code",
   "execution_count": 10,
   "metadata": {},
   "outputs": [
    {
     "name": "stdout",
     "output_type": "stream",
     "text": [
      "Mean Squared Error (XGBoost): 137778087.35706922\n",
      "R^2 Score (XGBoost): 0.9834948182106018\n",
      "Mean Absolute Error (XGBoost): 6579.549506271723\n",
      "Median Absolute Error (XGBoost): 4019.5625\n"
     ]
    }
   ],
   "source": [
    "# Crear el modelo de XGBoost\n",
    "xgb_model = xgb.XGBRegressor(objective='reg:squarederror', random_state=42)\n",
    "\n",
    "# Entrenar el modelo\n",
    "xgb_model.fit(X_train, y_train)\n",
    "\n",
    "# Hacer predicciones\n",
    "y_pred_xgb = xgb_model.predict(X_test)\n",
    "\n",
    "# Evaluar el modelo\n",
    "mse_xgb = mean_squared_error(y_test, y_pred_xgb)\n",
    "r2_xgb = r2_score(y_test, y_pred_xgb)\n",
    "mae_xgb = mean_absolute_error(y_test, y_pred_xgb)\n",
    "medae_xgb = median_absolute_error(y_test, y_pred_xgb)\n",
    "\n",
    "print(f\"Mean Squared Error (XGBoost): {mse_xgb}\")\n",
    "print(f\"R^2 Score (XGBoost): {r2_xgb}\")\n",
    "print(f\"Mean Absolute Error (XGBoost): {mae_xgb}\")\n",
    "print(f\"Median Absolute Error (XGBoost): {medae_xgb}\")"
   ]
  },
  {
   "cell_type": "markdown",
   "metadata": {},
   "source": [
    "# LightGBM"
   ]
  },
  {
   "cell_type": "code",
   "execution_count": 11,
   "metadata": {},
   "outputs": [
    {
     "name": "stdout",
     "output_type": "stream",
     "text": [
      "[LightGBM] [Warning] Found whitespace in feature_names, replace with underlines\n",
      "[LightGBM] [Info] Auto-choosing row-wise multi-threading, the overhead of testing was 0.000191 seconds.\n",
      "You can set `force_row_wise=true` to remove the overhead.\n",
      "And if memory is not enough, you can set `force_col_wise=true`.\n",
      "[LightGBM] [Info] Total Bins 545\n",
      "[LightGBM] [Info] Number of data points in the train set: 95092, number of used features: 3\n",
      "[LightGBM] [Info] Start training from score 127979.374890\n",
      "Mean Squared Error (LightGBM): 133961829.8498358\n",
      "R^2 Score (LightGBM): 0.983951988421836\n",
      "Mean Absolute Error (LightGBM): 6521.984914138249\n",
      "Median Absolute Error (LightGBM): 4032.6299075853167\n"
     ]
    }
   ],
   "source": [
    "# Crear el modelo de LightGBM\n",
    "lgb_model = lgb.LGBMRegressor(random_state=42)\n",
    "\n",
    "# Entrenar el modelo\n",
    "lgb_model.fit(X_train, y_train)\n",
    "\n",
    "# Hacer predicciones\n",
    "y_pred_lgb = lgb_model.predict(X_test)\n",
    "\n",
    "# Evaluar el modelo\n",
    "mse_lgb = mean_squared_error(y_test, y_pred_lgb)\n",
    "r2_lgb = r2_score(y_test, y_pred_lgb)\n",
    "mae_lgb = mean_absolute_error(y_test, y_pred_lgb)\n",
    "medae_lgb = median_absolute_error(y_test, y_pred_lgb)\n",
    "\n",
    "print(f\"Mean Squared Error (LightGBM): {mse_lgb}\")\n",
    "print(f\"R^2 Score (LightGBM): {r2_lgb}\")\n",
    "print(f\"Mean Absolute Error (LightGBM): {mae_lgb}\")\n",
    "print(f\"Median Absolute Error (LightGBM): {medae_lgb}\")"
   ]
  },
  {
   "cell_type": "markdown",
   "metadata": {},
   "source": [
    "# Support Vector Machines (SVM)"
   ]
  },
  {
   "cell_type": "code",
   "execution_count": 17,
   "metadata": {},
   "outputs": [
    {
     "name": "stdout",
     "output_type": "stream",
     "text": [
      "Mean Squared Error (SVM): 6096543796.479938\n",
      "R^2 Score (SVM): 0.2696620705885764\n",
      "Mean Absolute Error (SVM): 64262.76685718178\n",
      "Median Absolute Error (SVM): 58646.782756845016\n"
     ]
    }
   ],
   "source": [
    "# Crear el modelo de SVM\n",
    "svm_model = SVR(kernel='rbf')\n",
    "\n",
    "# Entrenar el modelo\n",
    "svm_model.fit(X_train, y_train)\n",
    "\n",
    "# Hacer predicciones\n",
    "y_pred_svm = svm_model.predict(X_test)\n",
    "\n",
    "# Evaluar el modelo\n",
    "mse_svm = mean_squared_error(y_test, y_pred_svm)\n",
    "r2_svm = r2_score(y_test, y_pred_svm)\n",
    "mae_svm = mean_absolute_error(y_test, y_pred_svm)\n",
    "medae_svm = median_absolute_error(y_test, y_pred_svm)\n",
    "\n",
    "print(f\"Mean Squared Error (SVM): {mse_svm}\")\n",
    "print(f\"R^2 Score (SVM): {r2_svm}\")\n",
    "print(f\"Mean Absolute Error (SVM): {mae_svm}\")\n",
    "print(f\"Median Absolute Error (SVM): {medae_svm}\")"
   ]
  }
 ],
 "metadata": {
  "kernelspec": {
   "display_name": ".venv",
   "language": "python",
   "name": "python3"
  },
  "language_info": {
   "codemirror_mode": {
    "name": "ipython",
    "version": 3
   },
   "file_extension": ".py",
   "mimetype": "text/x-python",
   "name": "python",
   "nbconvert_exporter": "python",
   "pygments_lexer": "ipython3",
   "version": "3.11.9"
  }
 },
 "nbformat": 4,
 "nbformat_minor": 2
}
